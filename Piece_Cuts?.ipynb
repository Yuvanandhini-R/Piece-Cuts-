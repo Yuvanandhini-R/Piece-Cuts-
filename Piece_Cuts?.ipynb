{
  "nbformat": 4,
  "nbformat_minor": 0,
  "metadata": {
    "colab": {
      "name": "Piece Cuts?.ipynb",
      "provenance": [],
      "authorship_tag": "ABX9TyP03HpClLjZXtebXfVa65LP"
    },
    "kernelspec": {
      "name": "python3",
      "display_name": "Python 3"
    },
    "accelerator": "TPU"
  },
  "cells": [
    {
      "cell_type": "code",
      "metadata": {
        "id": "0mBzErRW5Rgu",
        "colab_type": "code",
        "colab": {}
      },
      "source": [
        "bishopCuts = lambda bx, by, px, py: True if px - bx == py - by or px - bx == by - py else False"
      ],
      "execution_count": 0,
      "outputs": []
    },
    {
      "cell_type": "code",
      "metadata": {
        "id": "vdxZi-Sh5b9R",
        "colab_type": "code",
        "colab": {
          "base_uri": "https://localhost:8080/",
          "height": 34
        },
        "outputId": "28728ea2-defe-4947-90e8-e8daf85a8851"
      },
      "source": [
        "print(bishopCuts(2, 1, 3, 1))"
      ],
      "execution_count": 2,
      "outputs": [
        {
          "output_type": "stream",
          "text": [
            "False\n"
          ],
          "name": "stdout"
        }
      ]
    },
    {
      "cell_type": "code",
      "metadata": {
        "id": "wEXWgKxQL-Or",
        "colab_type": "code",
        "colab": {}
      },
      "source": [
        "def switch(lhs, *rhss):\n",
        "  for rhs in rhss:\n",
        "    if lhs == rhs:\n",
        "      return True\n",
        "\n",
        "  return False\n",
        "\n",
        "knightCuts = lambda nx, ny, px, py: switch(\n",
        "  (px, py),\n",
        "  (nx + 2, ny + 1),\n",
        "  (nx + 2, ny - 1),\n",
        "  (nx - 2, ny - 1),\n",
        "  (nx - 2, ny + 1),\n",
        "  (nx + 1, ny + 2),\n",
        "  (nx + 1, ny - 2),\n",
        "  (nx - 1, ny - 2),\n",
        "  (nx - 1, ny + 2),    \n",
        ")"
      ],
      "execution_count": 0,
      "outputs": []
    },
    {
      "cell_type": "code",
      "metadata": {
        "id": "4XDO4lerd9Hz",
        "colab_type": "code",
        "colab": {
          "base_uri": "https://localhost:8080/",
          "height": 34
        },
        "outputId": "7977e1b8-7bdd-4906-ddf5-79d911339288"
      },
      "source": [
        "print(knightCuts(2, 1, 4, 2))"
      ],
      "execution_count": 4,
      "outputs": [
        {
          "output_type": "stream",
          "text": [
            "True\n"
          ],
          "name": "stdout"
        }
      ]
    },
    {
      "cell_type": "code",
      "metadata": {
        "id": "id6QHgUmeCIH",
        "colab_type": "code",
        "colab": {}
      },
      "source": [
        "rookCuts = lambda rx, ry, px, py: True if rx == px or ry == py else False"
      ],
      "execution_count": 0,
      "outputs": []
    },
    {
      "cell_type": "code",
      "metadata": {
        "id": "YD8e37VOjPdJ",
        "colab_type": "code",
        "colab": {
          "base_uri": "https://localhost:8080/",
          "height": 34
        },
        "outputId": "9ca8215d-feb9-47a8-bdf3-8c3993968678"
      },
      "source": [
        "print(rookCuts(1, 1, 2, 2))"
      ],
      "execution_count": 6,
      "outputs": [
        {
          "output_type": "stream",
          "text": [
            "False\n"
          ],
          "name": "stdout"
        }
      ]
    },
    {
      "cell_type": "code",
      "metadata": {
        "id": "_-Y5_8ivjUQ2",
        "colab_type": "code",
        "colab": {}
      },
      "source": [
        "queenCuts = lambda qx, qy, px, py: rookCuts(qx, qy, px, py) or bishopCuts(qx, qy, px, py)"
      ],
      "execution_count": 0,
      "outputs": []
    },
    {
      "cell_type": "code",
      "metadata": {
        "id": "8proGICTldj5",
        "colab_type": "code",
        "colab": {
          "base_uri": "https://localhost:8080/",
          "height": 51
        },
        "outputId": "9673383c-dfb7-4d3e-98bc-056fa2da07f2"
      },
      "source": [
        "print(queenCuts(1, 1, 8, 8))\n",
        "print(queenCuts(1, 1, 2, 2))"
      ],
      "execution_count": 8,
      "outputs": [
        {
          "output_type": "stream",
          "text": [
            "True\n",
            "True\n"
          ],
          "name": "stdout"
        }
      ]
    },
    {
      "cell_type": "code",
      "metadata": {
        "id": "FRtxutwPmGGI",
        "colab_type": "code",
        "colab": {}
      },
      "source": [
        "pawnCuts = lambda px1, py1, px2, py2: True if (switch((px2, py2), (px1 + 1, py1 + 1), (px1 + 1, py1 - 1))) or (px1 == 5 and switch((px2, py2), (px1, py1 + 1), (px1, py1 - 1))) else False"
      ],
      "execution_count": 0,
      "outputs": []
    },
    {
      "cell_type": "code",
      "metadata": {
        "id": "HhpT9vi6mqrk",
        "colab_type": "code",
        "colab": {
          "base_uri": "https://localhost:8080/",
          "height": 34
        },
        "outputId": "d647029f-215e-4716-a433-6f2f20a5b979"
      },
      "source": [
        "print(pawnCuts(5, 2, 5, 3))"
      ],
      "execution_count": 10,
      "outputs": [
        {
          "output_type": "stream",
          "text": [
            "True\n"
          ],
          "name": "stdout"
        }
      ]
    },
    {
      "cell_type": "code",
      "metadata": {
        "id": "_Cawp70qm-bi",
        "colab_type": "code",
        "colab": {}
      },
      "source": [
        "kingCuts = lambda kx, ky, px, py: True if (abs(px - kx) == 1 and abs(py - ky) == 0) or (abs(py - ky) == 1 and abs(px - kx) == 0) or (abs(py - ky) == 1 and abs(px - kx) == 1) else False"
      ],
      "execution_count": 0,
      "outputs": []
    },
    {
      "cell_type": "code",
      "metadata": {
        "id": "LnX1gcrBrmI8",
        "colab_type": "code",
        "colab": {
          "base_uri": "https://localhost:8080/",
          "height": 34
        },
        "outputId": "9f587bec-0f93-4e9e-f873-a3e6171c707d"
      },
      "source": [
        "print(kingCuts(6, 6, 5, 7))"
      ],
      "execution_count": 12,
      "outputs": [
        {
          "output_type": "stream",
          "text": [
            "True\n"
          ],
          "name": "stdout"
        }
      ]
    },
    {
      "cell_type": "code",
      "metadata": {
        "id": "xrTLLSgZr98R",
        "colab_type": "code",
        "colab": {}
      },
      "source": [
        "def pieceCuts(piece, x, y, px, py):\n",
        "  if piece == \"K\":\n",
        "    return kingCuts(x, y, px, py)\n",
        "  elif piece == \"Q\":\n",
        "    return queenCuts(x, y, px, py)\n",
        "  elif piece == \"R\":\n",
        "    return rookCuts(x, y, px, py)\n",
        "  elif piece == \"B\":\n",
        "    return bishopCuts(x, y, px, py)\n",
        "  elif piece == \"N\":\n",
        "    return knightCuts(x, y, px, py)\n",
        "  elif piece == \"\":\n",
        "    return pawnCuts(x, y, px, py)\n",
        "  else:\n",
        "    return False"
      ],
      "execution_count": 0,
      "outputs": []
    },
    {
      "cell_type": "code",
      "metadata": {
        "id": "4lxAyPhEuMwK",
        "colab_type": "code",
        "colab": {
          "base_uri": "https://localhost:8080/",
          "height": 136
        },
        "outputId": "3745afe2-465b-46b1-c333-83608c291e9c"
      },
      "source": [
        "print(pieceCuts(\"B\", 1, 1, 3, 3))\n",
        "print(pieceCuts(\"N\", 2, 1, 4, 2))\n",
        "print(pieceCuts(\"R\", 1, 1, 2, 1))\n",
        "print(pieceCuts(\"Q\", 1, 1, 8, 8))\n",
        "print(pieceCuts(\"\", 1, 1, 2, 2))\n",
        "print(pieceCuts(\"K\", 5, 2, 5, 3))\n",
        "print(pieceCuts(\"INVALID\", 5, 2, 5, 3))"
      ],
      "execution_count": 14,
      "outputs": [
        {
          "output_type": "stream",
          "text": [
            "True\n",
            "True\n",
            "True\n",
            "True\n",
            "True\n",
            "True\n",
            "False\n"
          ],
          "name": "stdout"
        }
      ]
    },
    {
      "cell_type": "code",
      "metadata": {
        "id": "oKxr-c0FvEhn",
        "colab_type": "code",
        "colab": {}
      },
      "source": [
        ""
      ],
      "execution_count": 0,
      "outputs": []
    }
  ]
}